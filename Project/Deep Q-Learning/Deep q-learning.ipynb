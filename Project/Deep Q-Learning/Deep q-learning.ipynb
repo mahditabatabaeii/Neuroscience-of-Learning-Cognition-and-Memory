{
  "cells": [
    {
      "cell_type": "code",
      "execution_count": 3,
      "metadata": {
        "id": "-JhLs_mLpOHm"
      },
      "outputs": [],
      "source": [
        "import numpy as np\n",
        "import scipy.special as sp\n",
        "\n",
        "from IPython.display import display, clear_output\n",
        "import matplotlib.pyplot as plt\n",
        "import copy\n",
        "import time\n",
        "import random\n",
        "\n",
        "import torch\n",
        "import torch.nn as nn\n",
        "import torch.optim as optim\n",
        "import collections"
      ]
    },
    {
      "cell_type": "code",
      "execution_count": 4,
      "metadata": {
        "id": "ZJ8t_9TiXAEX"
      },
      "outputs": [],
      "source": [
        "Transition = collections.namedtuple('Experience',\n",
        "                                    field_names=['state', 'action',\n",
        "                                                 'next_state', 'reward',\n",
        "                                                 'is_game_on'])\n",
        "\n",
        "class ExperienceReplay:\n",
        "    def __init__(self, capacity):\n",
        "        self.capacity = capacity\n",
        "        self.memory = collections.deque(maxlen=capacity)\n",
        "\n",
        "    def __len__(self):\n",
        "        return len(self.memory)\n",
        "\n",
        "    def push(self, transition):\n",
        "        self.memory.append(transition)\n",
        "\n",
        "    def sample(self, batch_size, device = 'cuda'):\n",
        "        indices = np.random.choice(len(self.memory), batch_size, replace = False)\n",
        "\n",
        "        states, actions, next_states, rewards, isgameon = zip(*[self.memory[idx]\n",
        "                                                                for idx in indices])\n",
        "\n",
        "        return torch.Tensor(states).type(torch.float).to(device), \\\n",
        "               torch.Tensor(actions).type(torch.long).to(device), \\\n",
        "               torch.Tensor(next_states).to(device), \\\n",
        "               torch.Tensor(rewards).to(device), torch.tensor(isgameon).to(device)"
      ]
    },
    {
      "cell_type": "code",
      "execution_count": 5,
      "metadata": {
        "id": "rGgU9t9VXBp9"
      },
      "outputs": [],
      "source": [
        "class fc_nn(nn.Module):\n",
        "    def __init__(self, Ni, Nh1, Nh2, No = 4):\n",
        "        super().__init__()\n",
        "\n",
        "        self.fc1 = nn.Linear(Ni, Nh1)\n",
        "        self.fc2 = nn.Linear(Nh1, Nh2)\n",
        "        self.fc3 = nn.Linear(Nh2, No)\n",
        "\n",
        "        self.act = nn.ReLU()\n",
        "\n",
        "    def forward(self, x, classification = False, additional_out=False):\n",
        "        x = self.act(self.fc1(x))\n",
        "        x = self.act(self.fc2(x))\n",
        "        out = self.fc3(x)\n",
        "\n",
        "        return out"
      ]
    },
    {
      "cell_type": "code",
      "execution_count": 6,
      "metadata": {
        "id": "1L87Gl_qXEU_"
      },
      "outputs": [],
      "source": [
        "class conv_nn(nn.Module):\n",
        "\n",
        "    channels = [16, 32, 64]\n",
        "    kernels = [3, 3, 3]\n",
        "    strides = [1, 1, 1]\n",
        "    in_channels = 1\n",
        "\n",
        "    def __init__(self, rows, cols, n_act):\n",
        "        super().__init__()\n",
        "        self.rows = rows\n",
        "        self.cols = cols\n",
        "\n",
        "        self.conv = nn.Sequential(nn.Conv2d(in_channels = self.in_channels,\n",
        "                                            out_channels = self.channels[0],\n",
        "                                            kernel_size = self.kernels[0],\n",
        "                                            stride = self.strides[0]),\n",
        "                                  nn.ReLU(),\n",
        "                                  nn.Conv2d(in_channels = self.channels[0],\n",
        "                                            out_channels = self.channels[1],\n",
        "                                            kernel_size = self.kernels[1],\n",
        "                                            stride = self.strides[1]),\n",
        "                                  nn.ReLU()\n",
        "                                 )\n",
        "\n",
        "        size_out_conv = self.get_conv_size(rows, cols)\n",
        "\n",
        "        self.linear = nn.Sequential(nn.Linear(size_out_conv, rows*cols*2),\n",
        "                                    nn.ReLU(),\n",
        "                                    nn.Linear(rows*cols*2, int(rows*cols/2)),\n",
        "                                    nn.ReLU(),\n",
        "                                    nn.Linear(int(rows*cols/2), n_act),\n",
        "                                   )\n",
        "\n",
        "    def forward(self, x):\n",
        "        x = x.view(len(x), self.in_channels, self.rows, self.cols)\n",
        "        out_conv = self.conv(x).view(len(x),-1)\n",
        "        out_lin = self.linear(out_conv)\n",
        "        return out_lin\n",
        "\n",
        "    def get_conv_size(self, x, y):\n",
        "        out_conv = self.conv(torch.zeros(1,self.in_channels, x, y))\n",
        "        return int(np.prod(out_conv.size()))"
      ]
    },
    {
      "cell_type": "code",
      "execution_count": 7,
      "metadata": {
        "id": "DNS-__JbXKj1"
      },
      "outputs": [],
      "source": [
        "def Qloss(batch, net, gamma=0.99, device=\"cuda\"):\n",
        "    states, actions, next_states, rewards, _ = batch\n",
        "    lbatch = len(states)\n",
        "    state_action_values = net(states.view(lbatch,-1))\n",
        "    state_action_values = state_action_values.gather(1, actions.unsqueeze(-1))\n",
        "    state_action_values = state_action_values.squeeze(-1)\n",
        "\n",
        "    next_state_values = net(next_states.view(lbatch, -1))\n",
        "    next_state_values = next_state_values.max(1)[0]\n",
        "\n",
        "    next_state_values = next_state_values.detach()\n",
        "    expected_state_action_values = next_state_values * gamma + rewards\n",
        "\n",
        "    return nn.MSELoss()(state_action_values, expected_state_action_values)"
      ]
    },
    {
      "cell_type": "code",
      "execution_count": 8,
      "metadata": {
        "id": "01kjfSriXM1S"
      },
      "outputs": [],
      "source": [
        "from environment import MazeEnvironment\n",
        "\n",
        "maze = np.load('maze.npy')\n",
        "\n",
        "initial_position = [0,len(maze)-1]\n",
        "goal = [len(maze)-1, 0]\n",
        "\n",
        "maze_env = MazeEnvironment(maze, initial_position, goal)"
      ]
    },
    {
      "cell_type": "code",
      "execution_count": 10,
      "metadata": {
        "id": "I4a5h1bpXbT8"
      },
      "outputs": [],
      "source": [
        "buffer_capacity = 10000\n",
        "buffer_start_size = 1000\n",
        "memory_buffer = ExperienceReplay(buffer_capacity)"
      ]
    },
    {
      "cell_type": "code",
      "execution_count": 11,
      "metadata": {
        "id": "HzMV0fwzXhTv"
      },
      "outputs": [],
      "source": [
        "from agent import Agent\n",
        "agent = Agent(maze = maze_env,\n",
        "              memory_buffer = memory_buffer,\n",
        "              use_softmax = True\n",
        "             )"
      ]
    },
    {
      "cell_type": "code",
      "execution_count": 13,
      "metadata": {
        "colab": {
          "base_uri": "https://localhost:8080/"
        },
        "id": "YYwwpShVXh6p",
        "outputId": "09efea6c-231e-4d5f-8a57-9fb91c2cd64f"
      },
      "outputs": [
        {
          "data": {
            "text/plain": [
              "fc_nn(\n",
              "  (fc1): Linear(in_features=400, out_features=400, bias=True)\n",
              "  (fc2): Linear(in_features=400, out_features=400, bias=True)\n",
              "  (fc3): Linear(in_features=400, out_features=4, bias=True)\n",
              "  (act): ReLU()\n",
              ")"
            ]
          },
          "execution_count": 13,
          "metadata": {},
          "output_type": "execute_result"
        }
      ],
      "source": [
        "net = fc_nn(maze.size, maze.size, maze.size, 4)\n",
        "optimizer = optim.Adam(net.parameters(), lr=1e-4)\n",
        "\n",
        "device = 'cuda'\n",
        "batch_size = 32\n",
        "gamma = 0.9\n",
        "\n",
        "net.to(device)"
      ]
    },
    {
      "cell_type": "code",
      "execution_count": null,
      "metadata": {
        "colab": {
          "base_uri": "https://localhost:8080/",
          "height": 881
        },
        "id": "R4NLWbtgXlCP",
        "outputId": "a9092aa9-2ceb-47d6-9d0b-3509fe23c1eb"
      },
      "outputs": [],
      "source": [
        "num_epochs = 20000\n",
        "\n",
        "cutoff = 3000\n",
        "epsilon = np.exp(-np.arange(num_epochs)/(cutoff))\n",
        "epsilon[epsilon > epsilon[100*int(num_epochs/cutoff)]] = epsilon[100*int(num_epochs/cutoff)]"
      ]
    },
    {
      "cell_type": "code",
      "execution_count": null,
      "metadata": {
        "colab": {
          "base_uri": "https://localhost:8080/",
          "height": 326
        },
        "id": "3VlUt3kSX-Wk",
        "outputId": "f66b1950-a317-4227-8480-5132ee23160f"
      },
      "outputs": [],
      "source": [
        "loss_log = []\n",
        "best_loss = 1e5\n",
        "\n",
        "running_loss = 0\n",
        "\n",
        "for epoch in range(num_epochs):\n",
        "    loss = 0\n",
        "    counter = 0\n",
        "    eps = epsilon[epoch]\n",
        "\n",
        "    agent.isgameon = True\n",
        "    _ = agent.env.reset(eps)\n",
        "\n",
        "    while agent.isgameon:\n",
        "        agent.make_a_move(net, eps)\n",
        "        counter += 1\n",
        "\n",
        "        if len(agent.buffer) < buffer_start_size:\n",
        "            continue\n",
        "\n",
        "        optimizer.zero_grad()\n",
        "        batch = agent.buffer.sample(batch_size, device = device)\n",
        "        loss_t = Qloss(batch, net, gamma = gamma, device = device)\n",
        "        loss_t.backward()\n",
        "        optimizer.step()\n",
        "\n",
        "        loss += loss_t.item()\n",
        "\n",
        "    if (agent.env.current_position == agent.env.goal).all():\n",
        "        result = 'won'\n",
        "    else:\n",
        "        result = 'lost'\n",
        "\n",
        "    if epoch%1000 == 0:\n",
        "        agent.plot_policy_map(net, 'sol_epoch_'+str(epoch)+'.pdf', [0.35,-0.3])\n",
        "\n",
        "    loss_log.append(loss)\n",
        "\n",
        "    if (epoch > 2000):\n",
        "        running_loss = np.mean(loss_log[-50:])\n",
        "        if running_loss < best_loss:\n",
        "            best_loss = running_loss\n",
        "            torch.save(net.state_dict(), \"best.torch\")\n",
        "            estop = epoch\n",
        "\n",
        "    print('Epoch', epoch, '(number of moves ' + str(counter) + ')')\n",
        "    print('Game', result)\n",
        "    print('[' + '#'*(100-int(100*(1 - epoch/num_epochs))) +\n",
        "          ' '*int(100*(1 - epoch/num_epochs)) + ']')\n",
        "    print('\\t Average loss: ' + f'{loss:.5f}')\n",
        "    if (epoch > 2000):\n",
        "        print('\\t Best average loss of the last 50 epochs: ' + f'{best_loss:.5f}' + ', achieved at epoch', estop)\n",
        "    clear_output(wait = True)"
      ]
    },
    {
      "cell_type": "markdown",
      "metadata": {
        "id": "TaeA8q6ov1WW"
      },
      "source": [
        "## Due to lack of time and computational cost, I have Stopped the training after 4000 epochs."
      ]
    },
    {
      "cell_type": "code",
      "execution_count": 16,
      "metadata": {
        "id": "rjawzMBIYMBS"
      },
      "outputs": [],
      "source": [
        "torch.save(net.state_dict(), \"net.torch\")"
      ]
    },
    {
      "cell_type": "code",
      "execution_count": 20,
      "metadata": {
        "colab": {
          "base_uri": "https://localhost:8080/",
          "height": 406
        },
        "id": "k0xQit6MYX1Z",
        "outputId": "f124d4b0-349e-42c2-8e76-4ad1be3244f4"
      },
      "outputs": [
        {
          "data": {
            "image/png": "[encoded data removed]",
            "text/plain": [
              "<Figure size 640x480 with 1 Axes>"
            ]
          },
          "metadata": {},
          "output_type": "display_data"
        }
      ],
      "source": [
        "agent.plot_policy_map(net, 'solution.pdf', [0.35,-0.3])"
      ]
    }
  ],
  "metadata": {
    "accelerator": "GPU",
    "colab": {
      "gpuType": "T4",
      "provenance": []
    },
    "kernelspec": {
      "display_name": "Python 3",
      "name": "python3"
    },
    "language_info": {
      "name": "python"
    }
  },
  "nbformat": 4,
  "nbformat_minor": 0
}
